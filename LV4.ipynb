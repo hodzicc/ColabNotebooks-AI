{
  "nbformat": 4,
  "nbformat_minor": 0,
  "metadata": {
    "colab": {
      "provenance": [],
      "mount_file_id": "1ST-EhDlY4Y9_yTtbRfi48rKEVgLkT4Au",
      "authorship_tag": "ABX9TyNU64AelxKzI4j3GmLOsjsz",
      "include_colab_link": true
    },
    "kernelspec": {
      "name": "python3",
      "display_name": "Python 3"
    },
    "language_info": {
      "name": "python"
    }
  },
  "cells": [
    {
      "cell_type": "markdown",
      "metadata": {
        "id": "view-in-github",
        "colab_type": "text"
      },
      "source": [
        "<a href=\"https://colab.research.google.com/github/hodzicc/ColabNotebooks-AI/blob/main/LV4.ipynb\" target=\"_parent\"><img src=\"https://colab.research.google.com/assets/colab-badge.svg\" alt=\"Open In Colab\"/></a>"
      ]
    },
    {
      "cell_type": "markdown",
      "source": [
        "Učitati skup podataka iz priloga vježbe ’SpamDetectionData.csv’ te prikazati prva 3 podatka kako bi se upoznali\n",
        "sa formatom skupa podataka. Koje su kolone u ovom skupu podataka?"
      ],
      "metadata": {
        "id": "CHE1TObUsjVe"
      }
    },
    {
      "cell_type": "code",
      "execution_count": null,
      "metadata": {
        "colab": {
          "base_uri": "https://localhost:8080/"
        },
        "id": "CdJiAmYtq-NO",
        "outputId": "0cd75e0f-5113-455f-ac3d-76040ec65b06"
      },
      "outputs": [
        {
          "output_type": "stream",
          "name": "stdout",
          "text": [
            "  Label                                            Message\n",
            "0  Spam  <p>But could then once pomp to nor that glee g...\n",
            "1  Spam  <p>His honeyed and land vile are so and native...\n",
            "2  Spam  <p>Tear womans his was by had tis her eremites...\n"
          ]
        }
      ],
      "source": [
        "import pandas as pd\n",
        "\n",
        "# Učitavanje skupa podataka\n",
        "data = pd.read_csv('/content/drive/MyDrive/Colab Notebooks/SpamDetectionData.txt')\n",
        "\n",
        "# Prikaz prvih 3 podataka\n",
        "print(data.head(3))\n"
      ]
    },
    {
      "cell_type": "markdown",
      "source": [
        "Iz skupa podataka izdvojiti X i y pri čemu je X skup poruka, a y pridružene labele. Zatim ukloniti iz poruka\n",
        "html tagove s obzirom da se oni nalaze u svakoj poruci. Koliko slova ima prva, a koliko druga\n",
        "rečenica iz skupa podataka?"
      ],
      "metadata": {
        "id": "5DU9V9dVuZAx"
      }
    },
    {
      "cell_type": "code",
      "source": [
        "import re\n",
        "\n",
        "X=data['Message']\n",
        "y=data['Label']\n",
        "\n",
        "def remove_html_tags(text):\n",
        "    clean = re.compile('<.*?>')\n",
        "    return re.sub(clean, '', text)\n",
        "\n",
        "X = X.apply(remove_html_tags)\n",
        "\n",
        "first_sentence_length = len(X[0].replace(\" \", \"\"))\n",
        "second_sentence_length = len(X[1].replace(\" \", \"\"))\n",
        "\n",
        "print(\"Broj slova u prvoj rečenici:\", first_sentence_length)\n",
        "print(\"Broj slova u drugoj rečenici:\", second_sentence_length)\n"
      ],
      "metadata": {
        "colab": {
          "base_uri": "https://localhost:8080/"
        },
        "id": "56T_sSdJue3O",
        "outputId": "735570ca-ceb3-498a-ab9b-f1e0a85aaebe"
      },
      "execution_count": null,
      "outputs": [
        {
          "output_type": "stream",
          "name": "stdout",
          "text": [
            "Broj slova u prvoj rečenici: 337\n",
            "Broj slova u drugoj rečenici: 700\n"
          ]
        }
      ]
    },
    {
      "cell_type": "markdown",
      "source": [
        "Podijeliti skup podataka na dio za treniranje i testiranje pri čemu 10% ukupnog skupa se treba uzeti kao testni\n",
        "set;"
      ],
      "metadata": {
        "id": "EIiuyxHNuofA"
      }
    },
    {
      "cell_type": "code",
      "source": [
        "from sklearn.model_selection import train_test_split\n",
        "\n",
        "X_train, X_test, y_train, y_test = train_test_split(X, y, test_size = 0.1, random_state = 1)\n"
      ],
      "metadata": {
        "id": "RHu4-Y2CuuH8"
      },
      "execution_count": null,
      "outputs": []
    },
    {
      "cell_type": "markdown",
      "source": [
        "Izvršiti tokenizaciju teksta korištenjem Tokenizer objekta kao što je opisano u vježbi. Vokabular generisati\n",
        "na osnovu trening podataka. Nakon toga, na osnovu generisanog rječnika pretvoriti sve poruke (i iz trening i\n",
        "test skupa) iz teksta u niz cijelih brojeva. Koje su tri najčešće riječi u tekstu? Kako izgleda prva rečenica iz\n",
        "trening skupa podataka, a kako izgleda formirani niz cijelih brojeva za nju?\n"
      ],
      "metadata": {
        "id": "aLFrWKrNuq5Z"
      }
    },
    {
      "cell_type": "code",
      "source": [
        "from keras.preprocessing.text import Tokenizer\n",
        "\n",
        "tokenizer = Tokenizer()\n",
        "tokenizer.fit_on_texts(X_train)\n",
        "\n",
        "X_train_sequences = tokenizer.texts_to_sequences(X_train)\n",
        "X_test_sequences = tokenizer.texts_to_sequences(X_test)\n",
        "\n",
        "\n",
        "# Get word counts\n",
        "word_counts = tokenizer.word_counts\n",
        "\n",
        "# Find the top three most common words\n",
        "top_three_words = sorted(word_counts, key=word_counts.get, reverse=True)[:3]\n",
        "\n",
        "print(\"Tri najčešće riječi u tekstu:\", top_three_words)\n",
        "\n",
        "# Ispis prve rečenice iz trening skupa\n",
        "print(\"Prva rečenica iz trening skupa podataka:\", X_train.iloc[0])\n",
        "\n",
        "# Ispis formiranog niza cijelih brojeva za prvu rečenicu iz trening skupa\n",
        "print(\"Niz cijelih brojeva za prvu rečenicu iz trening skupa:\", X_train_sequences[0])"
      ],
      "metadata": {
        "colab": {
          "base_uri": "https://localhost:8080/"
        },
        "id": "lqvQ2oCQuvUR",
        "outputId": "9661d6fc-886c-4289-cd83-8f0c1b7116be"
      },
      "execution_count": null,
      "outputs": [
        {
          "output_type": "stream",
          "name": "stdout",
          "text": [
            "Tri najčešće riječi u tekstu: ['the', 'and', 'of']\n",
            "Prva rečenica iz trening skupa podataka: Yet for i songs before before. Sitting rapping now in only one door wretch bird distinctly merely more the. Scarcely and a door rare that is is chamber at soul the his hesitating clasp.Tell gaunt though my upon for. And wretch rustling nevermore streaming the but the morrow bird echo. Raven door no my bosoms oer flown the door sought will wide maiden opened. Or one word unhappy nights explore raven into the raven your lies then tempter quaff shrieked bird. Came at fearing many not raven truly sought mefilled mystery when came shore plutonian quoth let then quoth. Into or least remember hath said said one the only and thy. December what eyes if myself the. Hath thy i i lonely our off lamplight into i that this raven shutter. On above betook above ah door murmured rapping if from sign chamber beating. I whispered no whose visiter thereis or have entreating before maiden he plutonian. Oh lenore thy such it ever quaff. Angels more nameless on door i my my into floor by just this his mystery as ashore.A with my smiling. Name suddenly ancient its lies more a and or. Chamber if that though i murmured have radiant off. My bleak came on off. Lining and lady lenore visiter tossed have floor and. All crest again dreaming hear entreating he sat from hauntedtell. Chamber and that marvelled i entreating name is what that bird to the more is something eagerly before faster. The i radiant cannot entrance fast whose in grave soul did into to is and entreating not explore open. Tapping from by wheeled sir quoth no friends placid sainted being tell from. Sought and moment upon this ever the i though the a thy as truly perched this lenore. A sitting out my but there at lady leave said stronger flown i of dreams.\n",
            "Niz cijelih brojeva za prvu rečenicu iz trening skupa: [56, 24, 4, 744, 50, 50, 103, 96, 77, 11, 68, 40, 16, 364, 27, 695, 398, 36, 1, 597, 2, 5, 16, 200, 8, 21, 21, 18, 20, 42, 1, 10, 373, 123, 191, 512, 61, 7, 58, 24, 2, 364, 488, 32, 489, 1, 14, 1, 207, 27, 577, 28, 16, 43, 7, 669, 81, 171, 1, 16, 204, 110, 733, 113, 670, 17, 40, 67, 374, 138, 219, 28, 47, 1, 28, 775, 513, 31, 721, 173, 613, 27, 112, 20, 734, 114, 26, 28, 211, 204, 430, 220, 134, 112, 106, 224, 65, 132, 31, 65, 47, 17, 333, 598, 197, 41, 41, 40, 1, 68, 2, 30, 523, 52, 181, 48, 375, 1, 197, 30, 4, 4, 531, 749, 316, 102, 47, 4, 8, 12, 28, 542, 19, 46, 685, 46, 75, 16, 701, 96, 48, 13, 294, 18, 317, 4, 183, 43, 70, 99, 326, 17, 84, 121, 50, 113, 9, 224, 129, 37, 30, 180, 34, 80, 173, 78, 36, 707, 19, 16, 4, 7, 7, 47, 76, 23, 158, 12, 10, 220, 55, 756, 5, 29, 7, 168, 44, 308, 195, 86, 513, 36, 5, 2, 17, 18, 48, 8, 61, 4, 701, 84, 126, 316, 7, 421, 112, 19, 316, 122, 2, 309, 37, 99, 763, 84, 76, 2, 53, 661, 295, 185, 770, 121, 9, 100, 13, 771, 18, 2, 8, 662, 4, 121, 44, 21, 52, 8, 27, 6, 1, 36, 21, 175, 469, 50, 728, 1, 4, 126, 647, 203, 412, 70, 11, 712, 42, 60, 47, 6, 21, 2, 121, 26, 219, 221, 66, 13, 23, 385, 246, 65, 43, 139, 440, 543, 620, 191, 13, 204, 2, 353, 58, 12, 80, 1, 4, 61, 1, 5, 30, 55, 211, 108, 12, 37, 5, 103, 135, 7, 14, 33, 20, 309, 88, 41, 558, 171, 4, 3, 334]\n"
          ]
        }
      ]
    },
    {
      "cell_type": "markdown",
      "source": [
        "Kao što smo se mogli uvjeriti u zadatku b), nemaju sve rečenice istu dužinu. To se može riješiti vektorizacijom.\n",
        "Definisati funkcije vectorize_sequences(sequences, dimension) i vectorize_labels(labels).\n",
        "Prva funkcija treba da vrši vektorizaciju ulaznih podataka i prima kao prvi parametar nizove cijelih brojeva\n",
        "koji su rezultat prethodnog podzadatka. Kao drugi parametar treba da prima broj na koju dužinu treba\n",
        "vektorizovati te nizove. Druga funkcija, vectorize_labels, treba da vrši vektorizaciju labela pri čemu labeli\n",
        "’spam’ dodijeliti vrijednost 1, a klasi ’ham’ vrijednost 0. Pozvati ove funkcije nad vrijednostima dobijenim pod\n",
        "c) pri čemu vektorizaciju ulaznih podataka vršiti na vektore od 4000 elemenata;"
      ],
      "metadata": {
        "id": "yzKhgTs3uvns"
      }
    },
    {
      "cell_type": "code",
      "source": [
        "import numpy as np\n",
        "\n",
        "def vectorize_sequences(sequences, dimension=4000):\n",
        "    results = np.zeros((len(sequences), dimension))\n",
        "    for i, sequence in enumerate(sequences):\n",
        "        results[i, sequence] = 1.\n",
        "    return results\n",
        "\n",
        "def vectorize_labels(labels):\n",
        "    results = np.zeros(len(labels))\n",
        "    for i, label in enumerate(labels):\n",
        "        if (label.lower() == 'spam'):\n",
        "           results[i] = 1\n",
        "    return results\n",
        "\n",
        "X_train_vectorized = vectorize_sequences(X_train_sequences, dimension=4000)\n",
        "X_test_vectorized = vectorize_sequences(X_test_sequences, dimension=4000)\n",
        "\n",
        "y_train_vectorized = vectorize_labels(y_train)\n",
        "y_test_vectorized = vectorize_labels(y_test)"
      ],
      "metadata": {
        "id": "zvissDzZu0AI"
      },
      "execution_count": null,
      "outputs": []
    },
    {
      "cell_type": "markdown",
      "source": [
        "Definisati sekvencijalni Keras model koji prima ulaz oblika (4000,). Prva dva skrivena sloja trebaju biti\n",
        "Dense i imati 8 neurona sa aktivacijskom funkcijom relu. Izlazni sloj treba imati jedan neuron i imati\n",
        "sigmoid aktivacijsku funkciju;"
      ],
      "metadata": {
        "id": "scXqSv6Nu0aU"
      }
    },
    {
      "cell_type": "code",
      "source": [
        "from keras import models, layers\n",
        "\n",
        "network=models.Sequential()\n",
        "network.add(layers.Dense(8, activation='relu', input_shape=(4000,)))\n",
        "network.add(layers.Dense(8, activation='relu'))\n",
        "network.add(layers.Dense(1, activation='sigmoid'))\n",
        "\n",
        "network.summary()"
      ],
      "metadata": {
        "colab": {
          "base_uri": "https://localhost:8080/"
        },
        "id": "k2VWy4FWu2Pv",
        "outputId": "6eb65e99-f307-4935-8f96-9d6a5b7da7e7"
      },
      "execution_count": null,
      "outputs": [
        {
          "output_type": "stream",
          "name": "stdout",
          "text": [
            "Model: \"sequential\"\n",
            "_________________________________________________________________\n",
            " Layer (type)                Output Shape              Param #   \n",
            "=================================================================\n",
            " dense (Dense)               (None, 8)                 32008     \n",
            "                                                                 \n",
            " dense_1 (Dense)             (None, 8)                 72        \n",
            "                                                                 \n",
            " dense_2 (Dense)             (None, 1)                 9         \n",
            "                                                                 \n",
            "=================================================================\n",
            "Total params: 32089 (125.35 KB)\n",
            "Trainable params: 32089 (125.35 KB)\n",
            "Non-trainable params: 0 (0.00 Byte)\n",
            "_________________________________________________________________\n"
          ]
        }
      ]
    },
    {
      "cell_type": "markdown",
      "source": [
        "Kompajlirati model tako da koristi rmsprop optimizator, za funkciju gubitka koristiti binary_crossentropy,\n",
        "te accuracy kao metriku;"
      ],
      "metadata": {
        "id": "0LadmXv1u2ne"
      }
    },
    {
      "cell_type": "code",
      "source": [
        "from tensorflow.keras.optimizers import RMSprop\n",
        "network.compile(optimizer=RMSprop(),\n",
        "loss='binary_crossentropy',\n",
        "metrics=['accuracy'])"
      ],
      "metadata": {
        "id": "Omw7v4p4u4n2"
      },
      "execution_count": null,
      "outputs": []
    },
    {
      "cell_type": "markdown",
      "source": [
        "Istrenirati model na 5 epoha sa veličinom batcha od 128. 30% skupa za treniranje koristiti za validaciju. Kolika\n",
        "je postignuta tačnost i vrijednost funkcije gubitka? Grafički prikazati;"
      ],
      "metadata": {
        "id": "JCC8XRWQu4-s"
      }
    },
    {
      "cell_type": "code",
      "source": [
        "import matplotlib.pyplot as plt\n",
        "\n",
        "history = network.fit(X_train_vectorized, y_train_vectorized, epochs=5, batch_size=128, validation_split= 0.3)\n",
        "\n",
        "# Izbacivanje informacija o tačnosti i funkciji gubitka tokom treninga\n",
        "train_loss = history.history['loss']\n",
        "val_loss = history.history['val_loss']\n",
        "train_accuracy = history.history['accuracy']\n",
        "val_accuracy = history.history['val_accuracy']\n",
        "epochs = range(1, len(train_loss) + 1)\n",
        "\n",
        "# Prikaz grafikona za funkciju gubitka\n",
        "plt.plot(epochs, train_loss, 'bo', label='Training loss')\n",
        "plt.plot(epochs, val_loss, 'b', label='Validation loss')\n",
        "plt.title('Training and validation loss')\n",
        "plt.xlabel('Epochs')\n",
        "plt.ylabel('Loss')\n",
        "plt.legend()\n",
        "plt.show()\n",
        "\n",
        "# Prikaz grafikona za tačnost\n",
        "plt.plot(epochs, train_accuracy, 'bo', label='Training accuracy')\n",
        "plt.plot(epochs, val_accuracy, 'b', label='Validation accuracy')\n",
        "plt.title('Training and validation accuracy')\n",
        "plt.xlabel('Epochs')\n",
        "plt.ylabel('Accuracy')\n",
        "plt.legend()\n",
        "plt.show()"
      ],
      "metadata": {
        "colab": {
          "base_uri": "https://localhost:8080/",
          "height": 814
        },
        "id": "WalTvm9qu8rB",
        "outputId": "72d6e400-99e8-4898-e769-dd160fb5be02"
      },
      "execution_count": null,
      "outputs": [
        {
          "output_type": "stream",
          "name": "stdout",
          "text": [
            "Epoch 1/5\n",
            "11/11 [==============================] - 0s 29ms/step - loss: 0.0073 - accuracy: 1.0000 - val_loss: 0.0048 - val_accuracy: 1.0000\n",
            "Epoch 2/5\n",
            "11/11 [==============================] - 0s 20ms/step - loss: 0.0045 - accuracy: 1.0000 - val_loss: 0.0029 - val_accuracy: 1.0000\n",
            "Epoch 3/5\n",
            "11/11 [==============================] - 0s 20ms/step - loss: 0.0028 - accuracy: 1.0000 - val_loss: 0.0019 - val_accuracy: 1.0000\n",
            "Epoch 4/5\n",
            "11/11 [==============================] - 0s 20ms/step - loss: 0.0019 - accuracy: 1.0000 - val_loss: 0.0012 - val_accuracy: 1.0000\n",
            "Epoch 5/5\n",
            "11/11 [==============================] - 0s 19ms/step - loss: 0.0013 - accuracy: 1.0000 - val_loss: 8.4431e-04 - val_accuracy: 1.0000\n"
          ]
        },
        {
          "output_type": "display_data",
          "data": {
            "text/plain": [
              "<Figure size 640x480 with 1 Axes>"
            ],
            "image/png": "[encoded data removed]"
          },
          "metadata": {}
        },
        {
          "output_type": "display_data",
          "data": {
            "text/plain": [
              "<Figure size 640x480 with 1 Axes>"
            ],
            "image/png": "[encoded data removed]"
          },
          "metadata": {}
        }
      ]
    },
    {
      "cell_type": "markdown",
      "source": [
        "Izvršiti evaluaciju modela nad testnim skupom podataka. Kolika je tačnost nad ovim skupom?"
      ],
      "metadata": {
        "id": "G-7Q52Yiu9Cu"
      }
    },
    {
      "cell_type": "code",
      "source": [
        "loss, accuracy = network.evaluate(X_test_vectorized, y_test_vectorized)\n",
        "print(\"Accuracy on test set:\", accuracy)\n"
      ],
      "metadata": {
        "colab": {
          "base_uri": "https://localhost:8080/"
        },
        "id": "8knGcVu8u_Tl",
        "outputId": "8a923b8f-5bb4-4b8b-9481-72f1497e9ba9"
      },
      "execution_count": null,
      "outputs": [
        {
          "output_type": "stream",
          "name": "stdout",
          "text": [
            "7/7 [==============================] - 0s 3ms/step - loss: 0.0084 - accuracy: 1.0000\n",
            "Accuracy on test set: 1.0\n"
          ]
        }
      ]
    },
    {
      "cell_type": "markdown",
      "source": [
        "Definišite proizvoljnu poruku, pomoću tokenizera formirajte niz cijelih brojeva, vektorizujte ga i provjerite da\n",
        "li model ispravno klasificira tu poruku."
      ],
      "metadata": {
        "id": "VCMlmpcHu_sn"
      }
    },
    {
      "cell_type": "code",
      "source": [
        "message = \"Congratulations! You've won a free vacation to a luxurious resort! Claim your prize now by clicking the link below.\"\n",
        "\n",
        "# Tokenizacija poruke\n",
        "message_sequence = tokenizer.texts_to_sequences([message])\n",
        "\n",
        "# Vektorizacija poruke\n",
        "message_vectorized = vectorize_sequences(message_sequence, dimension=4000)\n",
        "\n",
        "# Klasifikacija poruke\n",
        "prediction = network.predict(message_vectorized)\n",
        "print(\"Classification result for the message:\", prediction)"
      ],
      "metadata": {
        "colab": {
          "base_uri": "https://localhost:8080/"
        },
        "id": "-45TfT6kvBxY",
        "outputId": "8dc2138a-5c7d-4f5c-9f01-a6986f559949"
      },
      "execution_count": null,
      "outputs": [
        {
          "output_type": "stream",
          "name": "stdout",
          "text": [
            "1/1 [==============================] - 0s 38ms/step\n",
            "Classification result for the message: [[0.56083727]]\n"
          ]
        }
      ]
    },
    {
      "cell_type": "markdown",
      "source": [
        "ZADATAK 2\n"
      ],
      "metadata": {
        "id": "yyNxCQ1cEpsZ"
      }
    },
    {
      "cell_type": "markdown",
      "source": [
        "Učitati ’stackoverflow.csv’ skup podataka iz priloga vježbe i prikazati posljednja tri podatka;"
      ],
      "metadata": {
        "id": "-ePG7PiRErCf"
      }
    },
    {
      "cell_type": "code",
      "source": [
        "import pandas as pd\n",
        "\n",
        "data = pd.read_csv('/content/drive/MyDrive/Colab Notebooks/stackoverflow.csv')\n",
        "\n",
        "print(data.tail(3))"
      ],
      "metadata": {
        "colab": {
          "base_uri": "https://localhost:8080/"
        },
        "id": "wNw8YlHsSFrB",
        "outputId": "d57de9f8-43a8-4afe-d20d-a0f0b10a1a7a"
      },
      "execution_count": null,
      "outputs": [
        {
          "output_type": "stream",
          "name": "stdout",
          "text": [
            "                                                   post  tags\n",
            "1987  directory folder name to put user defined pack...  java\n",
            "1988  send message to server java  i m creating chat...  java\n",
            "1989  how to add pattern of  *  is url-pattern in we...  java\n"
          ]
        }
      ]
    },
    {
      "cell_type": "markdown",
      "source": [
        "Izdvojiti iz skupa podataka X i y, odnosno skup pitanja i skup odgovarajučih labela respektivno. Koliko ima\n",
        "jedinstvenih labela, odnosno iz koliko programskih jezika se nalaze pitanja u skupu podataka? Koji su to\n",
        "programski jezici?"
      ],
      "metadata": {
        "id": "WxHbpq6LSGEo"
      }
    },
    {
      "cell_type": "code",
      "source": [
        "import re\n",
        "\n",
        "X=data['post']\n",
        "y=data['tags']\n",
        "\n",
        "\n",
        "num_unique_labels = y.nunique()\n",
        "print(\"Broj jedinstvenih labela (programskih jezika):\", num_unique_labels)\n",
        "\n",
        "# Prikaz programskih jezika\n",
        "unique_labels = y.unique()\n",
        "print(\"Programski jezici:\", unique_labels)\n"
      ],
      "metadata": {
        "colab": {
          "base_uri": "https://localhost:8080/"
        },
        "id": "qABb618nSVMu",
        "outputId": "5120946a-ba12-40bf-b5bc-ad42737c9e31"
      },
      "execution_count": null,
      "outputs": [
        {
          "output_type": "stream",
          "name": "stdout",
          "text": [
            "Broj jedinstvenih labela (programskih jezika): 4\n",
            "Programski jezici: ['java' 'javascript' 'c#' 'python']\n"
          ]
        }
      ]
    },
    {
      "cell_type": "markdown",
      "source": [
        "Izvršiti one-hot enkodiranje labela - prvo tekstualne labele mapirati u cijeli broj pomoću LabelEncoder ob-\n",
        "jekta iz sklearn.preprocessing modula. Izvršiti one-hot enkodiranje labela korištenjem to_categorical\n",
        "funkcije iz keras.utils modula. Ispisati dobijeni niz labela;"
      ],
      "metadata": {
        "id": "FyeDWZJxSVlK"
      }
    },
    {
      "cell_type": "code",
      "source": [
        "from sklearn.preprocessing import LabelEncoder\n",
        "from keras.utils import to_categorical\n",
        "\n",
        "# Inicijalizacija LabelEncoder objekta\n",
        "label_encoder = LabelEncoder()\n",
        "\n",
        "# Kodiranje tekstualnih labela u cijele brojeve\n",
        "encoded_labels = label_encoder.fit_transform(y)\n",
        "\n",
        "# One-hot enkodiranje cijelih brojeva\n",
        "one_hot_labels = to_categorical(encoded_labels)\n",
        "\n",
        "# Ispis dobijenog niza labela\n",
        "print(\"One-hot enkodirane labele:\")\n",
        "print(one_hot_labels)"
      ],
      "metadata": {
        "colab": {
          "base_uri": "https://localhost:8080/"
        },
        "id": "WzXrr9ZHSadO",
        "outputId": "bd0cfc4a-fcdb-445a-e291-68b5a15c1710"
      },
      "execution_count": null,
      "outputs": [
        {
          "output_type": "stream",
          "name": "stdout",
          "text": [
            "One-hot enkodirane labele:\n",
            "[[0. 1. 0. 0.]\n",
            " [0. 0. 1. 0.]\n",
            " [1. 0. 0. 0.]\n",
            " ...\n",
            " [0. 1. 0. 0.]\n",
            " [0. 1. 0. 0.]\n",
            " [0. 1. 0. 0.]]\n"
          ]
        }
      ]
    },
    {
      "cell_type": "markdown",
      "source": [
        "Podijeliti skup podataka na dio za treniranje i testiranje pri čemu 10% ukupnog skupa se treba uzeti kao testni\n",
        "set;"
      ],
      "metadata": {
        "id": "v3sGuGdZSbL3"
      }
    },
    {
      "cell_type": "code",
      "source": [
        "from sklearn.model_selection import train_test_split\n",
        "\n",
        "X_train, X_test, y_train, y_test = train_test_split(X, one_hot_labels, test_size=0.1, random_state=42)\n"
      ],
      "metadata": {
        "id": "ghLMtlUSSdTv"
      },
      "execution_count": null,
      "outputs": []
    },
    {
      "cell_type": "markdown",
      "source": [
        "Tokenizirati i vektorizovati tekst (pitanja) slično kao u prethodnom zadatku. Prilikom tokenizacije uzimati\n",
        "u obzir samo 500 najčešćih riječi (ovo se može definisati pri samom formiranju Tokenizer objekta pomoću\n",
        "jednog od parametara). Prema ovome prilagoditi i parametar dimensions pri vektorizaciji;"
      ],
      "metadata": {
        "id": "vql-qa3PSfPX"
      }
    },
    {
      "cell_type": "code",
      "source": [
        "tokenizer = Tokenizer(num_words=500)\n",
        "tokenizer.fit_on_texts(X_train)\n",
        "\n",
        "X_train_sequences = tokenizer.texts_to_sequences(X_train)\n",
        "X_test_sequences = tokenizer.texts_to_sequences(X_test)\n",
        "\n",
        "def vectorize_sequences(sequences, dimension=500):\n",
        "    results = np.zeros((len(sequences), dimension))\n",
        "    for i, sequence in enumerate(sequences):\n",
        "        results[i, sequence] = 1.\n",
        "    return results\n",
        "\n",
        "X_train_vectorized = vectorize_sequences(X_train_sequences, dimension=500)\n",
        "X_test_vectorized = vectorize_sequences(X_test_sequences, dimension=500)\n"
      ],
      "metadata": {
        "id": "gWRkBgykSf_G"
      },
      "execution_count": null,
      "outputs": []
    },
    {
      "cell_type": "markdown",
      "source": [
        "Definisati sekvencijalni Keras model sa 3 Dense sloja. Prvi treba imati 32 neurona, drugi 8 neurona, a\n",
        "posljednji, koji je i izlazni treba imati onoliko neurona koliko ima klasa u ovom problemu. Aktivacijske funkcije\n",
        "prva dva sloja postaviti na relu, a posljednjeg sloja na softmax;"
      ],
      "metadata": {
        "id": "lfSH9KVUSgWg"
      }
    },
    {
      "cell_type": "code",
      "source": [
        "network=models.Sequential()\n",
        "network.add(layers.Dense(32, activation='relu', input_shape=(500,)))\n",
        "network.add(layers.Dense(8, activation='relu'))\n",
        "network.add(layers.Dense(4, activation='softmax'))\n",
        "\n",
        "network.summary()"
      ],
      "metadata": {
        "colab": {
          "base_uri": "https://localhost:8080/"
        },
        "id": "iux-JPdkSjNY",
        "outputId": "a333f060-6a3c-470c-e9b0-acd8e5b7190c"
      },
      "execution_count": null,
      "outputs": [
        {
          "output_type": "stream",
          "name": "stdout",
          "text": [
            "Model: \"sequential_4\"\n",
            "_________________________________________________________________\n",
            " Layer (type)                Output Shape              Param #   \n",
            "=================================================================\n",
            " dense_12 (Dense)            (None, 32)                16032     \n",
            "                                                                 \n",
            " dense_13 (Dense)            (None, 8)                 264       \n",
            "                                                                 \n",
            " dense_14 (Dense)            (None, 4)                 36        \n",
            "                                                                 \n",
            "=================================================================\n",
            "Total params: 16332 (63.80 KB)\n",
            "Trainable params: 16332 (63.80 KB)\n",
            "Non-trainable params: 0 (0.00 Byte)\n",
            "_________________________________________________________________\n"
          ]
        }
      ]
    },
    {
      "cell_type": "markdown",
      "source": [
        "Kompajlirati model tako da se koristi adam optimizator, categorical_crossentropy funkcija gubitka i\n",
        "accuracy metrika. Prikazati sažetak (eng. summary) modela;"
      ],
      "metadata": {
        "id": "Mth-PJDISlNe"
      }
    },
    {
      "cell_type": "code",
      "source": [
        "network.compile(optimizer='adam',\n",
        "loss='categorical_crossentropy',\n",
        "metrics=['accuracy'])\n",
        "\n",
        "network.summary()"
      ],
      "metadata": {
        "colab": {
          "base_uri": "https://localhost:8080/"
        },
        "id": "tTA3tQ30SmDV",
        "outputId": "d93437b8-288c-47b1-cca8-645068d408ab"
      },
      "execution_count": null,
      "outputs": [
        {
          "output_type": "stream",
          "name": "stdout",
          "text": [
            "Model: \"sequential_4\"\n",
            "_________________________________________________________________\n",
            " Layer (type)                Output Shape              Param #   \n",
            "=================================================================\n",
            " dense_12 (Dense)            (None, 32)                16032     \n",
            "                                                                 \n",
            " dense_13 (Dense)            (None, 8)                 264       \n",
            "                                                                 \n",
            " dense_14 (Dense)            (None, 4)                 36        \n",
            "                                                                 \n",
            "=================================================================\n",
            "Total params: 16332 (63.80 KB)\n",
            "Trainable params: 16332 (63.80 KB)\n",
            "Non-trainable params: 0 (0.00 Byte)\n",
            "_________________________________________________________________\n"
          ]
        }
      ]
    },
    {
      "cell_type": "markdown",
      "source": [
        "Istrenirati model na 8 epoha sa veličinom batcha 8. Izdvojiti 25% trening skupa da se koristi za validaciju.\n",
        "Kolika je postignuta tačnost modela I kolika je vrijednost funkcije gubitka? Grafički prikazati;"
      ],
      "metadata": {
        "id": "WLyLM7dMSn9E"
      }
    },
    {
      "cell_type": "code",
      "source": [
        "history = network.fit(X_train_vectorized, y_train, epochs=8, batch_size=8, validation_split= 0.25)\n",
        "\n",
        "# Izbacivanje informacija o tačnosti i funkciji gubitka tokom treninga\n",
        "train_loss = history.history['loss']\n",
        "val_loss = history.history['val_loss']\n",
        "train_accuracy = history.history['accuracy']\n",
        "val_accuracy = history.history['val_accuracy']\n",
        "epochs = range(1, len(train_loss) + 1)\n",
        "\n",
        "# Prikaz grafikona za funkciju gubitka\n",
        "plt.plot(epochs, train_loss, 'bo', label='Training loss')\n",
        "plt.plot(epochs, val_loss, 'b', label='Validation loss')\n",
        "plt.title('Training and validation loss')\n",
        "plt.xlabel('Epochs')\n",
        "plt.ylabel('Loss')\n",
        "plt.legend()\n",
        "plt.show()\n",
        "\n",
        "# Prikaz grafikona za tačnost\n",
        "plt.plot(epochs, train_accuracy, 'bo', label='Training accuracy')\n",
        "plt.plot(epochs, val_accuracy, 'b', label='Validation accuracy')\n",
        "plt.title('Training and validation accuracy')\n",
        "plt.xlabel('Epochs')\n",
        "plt.ylabel('Accuracy')\n",
        "plt.legend()\n",
        "plt.show()"
      ],
      "metadata": {
        "colab": {
          "base_uri": "https://localhost:8080/",
          "height": 927
        },
        "id": "dAxzKNxsSogA",
        "outputId": "c76113ae-e9a5-4bb1-e0d2-02909b019658"
      },
      "execution_count": null,
      "outputs": [
        {
          "output_type": "stream",
          "name": "stdout",
          "text": [
            "Epoch 1/8\n",
            "168/168 [==============================] - 2s 7ms/step - loss: 0.9791 - accuracy: 0.6523 - val_loss: 0.6082 - val_accuracy: 0.8438\n",
            "Epoch 2/8\n",
            "168/168 [==============================] - 1s 4ms/step - loss: 0.3631 - accuracy: 0.9211 - val_loss: 0.2945 - val_accuracy: 0.9286\n",
            "Epoch 3/8\n",
            "168/168 [==============================] - 1s 3ms/step - loss: 0.1612 - accuracy: 0.9650 - val_loss: 0.2217 - val_accuracy: 0.9308\n",
            "Epoch 4/8\n",
            "168/168 [==============================] - 1s 3ms/step - loss: 0.0896 - accuracy: 0.9881 - val_loss: 0.2104 - val_accuracy: 0.9263\n",
            "Epoch 5/8\n",
            "168/168 [==============================] - 1s 3ms/step - loss: 0.0541 - accuracy: 0.9948 - val_loss: 0.1857 - val_accuracy: 0.9263\n",
            "Epoch 6/8\n",
            "168/168 [==============================] - 0s 3ms/step - loss: 0.0339 - accuracy: 0.9985 - val_loss: 0.1875 - val_accuracy: 0.9286\n",
            "Epoch 7/8\n",
            "168/168 [==============================] - 0s 3ms/step - loss: 0.0225 - accuracy: 0.9993 - val_loss: 0.1888 - val_accuracy: 0.9263\n",
            "Epoch 8/8\n",
            "168/168 [==============================] - 1s 3ms/step - loss: 0.0152 - accuracy: 0.9993 - val_loss: 0.1917 - val_accuracy: 0.9241\n"
          ]
        },
        {
          "output_type": "display_data",
          "data": {
            "text/plain": [
              "<Figure size 640x480 with 1 Axes>"
            ],
            "image/png": "[encoded data removed]"
          },
          "metadata": {}
        },
        {
          "output_type": "display_data",
          "data": {
            "text/plain": [
              "<Figure size 640x480 with 1 Axes>"
            ],
            "image/png": "[encoded data removed]"
          },
          "metadata": {}
        }
      ]
    },
    {
      "cell_type": "markdown",
      "source": [
        "Izvršiti evaluaciju modela nad testnim skupom. Kolika je tačnost nad ovim skupom?"
      ],
      "metadata": {
        "id": "csJf6uvFSo1V"
      }
    },
    {
      "cell_type": "code",
      "source": [
        "loss, accuracy = network.evaluate(X_test_vectorized, y_test)\n",
        "print(\"Loss: \", loss)\n",
        "print(\"Accuracy: \", accuracy)"
      ],
      "metadata": {
        "colab": {
          "base_uri": "https://localhost:8080/"
        },
        "id": "70e6DuLLSrJ8",
        "outputId": "47030d9e-b416-40a3-e63b-4809b1e1b45f"
      },
      "execution_count": null,
      "outputs": [
        {
          "output_type": "stream",
          "name": "stdout",
          "text": [
            "7/7 [==============================] - 0s 3ms/step - loss: 0.2514 - accuracy: 0.9146\n",
            "Loss:  0.25137805938720703\n",
            "Accuracy:  0.9145728349685669\n"
          ]
        }
      ]
    }
  ]
}